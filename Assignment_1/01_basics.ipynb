{
  "nbformat": 4,
  "nbformat_minor": 0,
  "metadata": {
    "colab": {
      "provenance": []
    },
    "kernelspec": {
      "name": "python3",
      "display_name": "Python 3"
    },
    "language_info": {
      "name": "python"
    }
  },
  "cells": [
    {
      "cell_type": "code",
      "execution_count": 1,
      "metadata": {
        "colab": {
          "base_uri": "https://localhost:8080/"
        },
        "id": "G41Yl6hn3v-Y",
        "outputId": "e772ded8-1802-4fd8-ca34-bf104a82ec6d"
      },
      "outputs": [
        {
          "output_type": "stream",
          "name": "stdout",
          "text": [
            "What do you want? joke\n",
            "\n",
            "Here is a joke for you! Sophia is heading out to the grocery store. A programmer tells her: get a liter of milk, and if they have eggs, get 12.\n",
            "Sophia returns with 13 liters of milk. The programmer asks why and Sophia replies: 'because they had eggs'\n",
            " \n"
          ]
        }
      ],
      "source": [
        "# 00_joke_bot\n",
        "\n",
        "PROMPT: str = \"What do you want? \"\n",
        "JOKE: str = \"\"\"\n",
        "Here is a joke for you! Sophia is heading out to the grocery store. A programmer tells her: get a liter of milk, and if they have eggs, get 12.\n",
        "Sophia returns with 13 liters of milk. The programmer asks why and Sophia replies: 'because they had eggs'\n",
        " \"\"\"\n",
        "SORRY: str = \"Sorry I only tell jokes.\"\n",
        "\n",
        "def main():\n",
        "    user_input = input(PROMPT)\n",
        "    user_input = user_input.strip().lower()\n",
        "\n",
        "    if 'joke' in user_input:\n",
        "        print(JOKE)\n",
        "    else:\n",
        "        print(SORRY)\n",
        "\n",
        "if __name__ == \"__main__\":\n",
        "    main()"
      ]
    },
    {
      "cell_type": "code",
      "source": [
        "# 01_double_it\n",
        "def main():\n",
        "\n",
        "    user_value = int(input('Enter a number: '))\n",
        "    while user_value < 100:\n",
        "      user_value = user_value * 2\n",
        "      print(user_value)\n",
        "\n",
        "\n",
        "if __name__ == \"__main__\":\n",
        "    main()"
      ],
      "metadata": {
        "colab": {
          "base_uri": "https://localhost:8080/"
        },
        "id": "mTtBTeoIA72B",
        "outputId": "b9f50742-cf37-4302-97ed-9ed97e75f775"
      },
      "execution_count": 2,
      "outputs": [
        {
          "output_type": "stream",
          "name": "stdout",
          "text": [
            "Enter a number: 23\n",
            "46\n",
            "92\n",
            "184\n"
          ]
        }
      ]
    },
    {
      "cell_type": "code",
      "source": [
        "# 02_liftoff\n",
        "\n",
        "def main():\n",
        "  for i in range(10,0,-1):\n",
        "\n",
        "    print(i,end=' ')\n",
        "  print(\"Liftoff!\")\n",
        "\n",
        "\n",
        "if __name__ == '__main__':\n",
        "    main()"
      ],
      "metadata": {
        "colab": {
          "base_uri": "https://localhost:8080/"
        },
        "id": "vJk00_R0Dgcm",
        "outputId": "1285e443-5064-44cf-d985-cae7dd285e1e"
      },
      "execution_count": 8,
      "outputs": [
        {
          "output_type": "stream",
          "name": "stdout",
          "text": [
            "10 9 8 7 6 5 4 3 2 1 Liftoff!\n"
          ]
        }
      ]
    },
    {
      "cell_type": "code",
      "source": [
        "# 03_guess_my_number\n",
        "import random\n",
        "\n",
        "def main():\n",
        "\n",
        "    secret_number = random.randint(1, 99)\n",
        "\n",
        "    print(\"I am thinking of a number between 1 and 99...\")\n",
        "\n",
        "    guess = int(input(\"Enter a guess: \"))\n",
        "    while guess != secret_number:\n",
        "        if guess < secret_number:\n",
        "            print(\"Your guess is too low\")\n",
        "        else:\n",
        "            print(\"Your guess is too high\")\n",
        "\n",
        "        print()\n",
        "        guess = int(input(\"Enter a new guess: \"))\n",
        "\n",
        "    print(f\"Congrats! The number was:  {secret_number}\")\n",
        "\n",
        "if __name__ == '__main__':\n",
        "    main()"
      ],
      "metadata": {
        "colab": {
          "base_uri": "https://localhost:8080/"
        },
        "id": "XnBxIx3AEBmu",
        "outputId": "30e0edbf-5887-41da-830f-454485240c49"
      },
      "execution_count": 9,
      "outputs": [
        {
          "output_type": "stream",
          "name": "stdout",
          "text": [
            "I am thinking of a number between 1 and 99...\n",
            "Enter a guess: 56\n",
            "Your guess is too high\n",
            "\n",
            "Enter a new guess: 45\n",
            "Your guess is too high\n",
            "\n",
            "Enter a new guess: 38\n",
            "Your guess is too high\n",
            "\n",
            "Enter a new guess: 32\n",
            "Your guess is too high\n",
            "\n",
            "Enter a new guess: 29\n",
            "Your guess is too high\n",
            "\n",
            "Enter a new guess: 25\n",
            "Your guess is too low\n",
            "\n",
            "Enter a new guess: 27\n",
            "Your guess is too low\n",
            "\n",
            "Enter a new guess: 28\n",
            "Congrats! The number was:  28\n"
          ]
        }
      ]
    },
    {
      "cell_type": "code",
      "source": [
        "# 04_random_numbers\n",
        "import random\n",
        "N_NUMBERS : int = 10\n",
        "MIN_VALUE : int = 1\n",
        "MAX_VALUE : int = 100\n",
        "\n",
        "def main():\n",
        "  for i in range(N_NUMBERS):\n",
        "    print(random.randint(MIN_VALUE, MAX_VALUE), end=' ')\n",
        "\n",
        "if __name__ == '__main__':\n",
        "    main()"
      ],
      "metadata": {
        "colab": {
          "base_uri": "https://localhost:8080/"
        },
        "id": "Z5Cmno2REy1D",
        "outputId": "6d256928-b159-482b-8159-10480ee892db"
      },
      "execution_count": 11,
      "outputs": [
        {
          "output_type": "stream",
          "name": "stdout",
          "text": [
            "71 9 24 60 67 76 50 2 49 65 "
          ]
        }
      ]
    }
  ]
}