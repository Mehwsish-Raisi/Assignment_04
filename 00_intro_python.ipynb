{
  "nbformat": 4,
  "nbformat_minor": 0,
  "metadata": {
    "colab": {
      "provenance": [],
      "authorship_tag": "ABX9TyP7pgKNZ6XOrck2evb4n2zX",
      "include_colab_link": true
    },
    "kernelspec": {
      "name": "python3",
      "display_name": "Python 3"
    },
    "language_info": {
      "name": "python"
    }
  },
  "cells": [
    {
      "cell_type": "markdown",
      "metadata": {
        "id": "view-in-github",
        "colab_type": "text"
      },
      "source": [
        "<a href=\"https://colab.research.google.com/github/Mehwsish-Raisi/Assignment_04/blob/main/00_intro_python.ipynb\" target=\"_parent\"><img src=\"https://colab.research.google.com/assets/colab-badge.svg\" alt=\"Open In Colab\"/></a>"
      ]
    },
    {
      "cell_type": "code",
      "execution_count": 6,
      "metadata": {
        "colab": {
          "base_uri": "https://localhost:8080/"
        },
        "id": "XP5QLPGGjgBn",
        "outputId": "0ce7ca7e-734f-46a5-d8c6-b7c7a464b6fe"
      },
      "outputs": [
        {
          "output_type": "stream",
          "name": "stdout",
          "text": [
            "This program adds two numbers.\n",
            "Enter first number: 6\n",
            "Enter second number: 9\n",
            "The total is 15.\n"
          ]
        }
      ],
      "source": [
        "# 01_add_two_numbers\n",
        "\n",
        "def main():\n",
        "  print(\"This program adds two numbers.\")\n",
        "  num1 : str = input(\"Enter first number: \")\n",
        "  num1 : int = int(num1)\n",
        "  num2  : str = input(\"Enter second number: \")\n",
        "  num2 : int = int(num2)\n",
        "  total : int = num1 + num2\n",
        "  print(\"The total is \" + str(total) + \".\")\n",
        "\n",
        "if __name__ == '__main__':\n",
        "    main()"
      ]
    },
    {
      "cell_type": "code",
      "source": [
        "# 02_agreement_bot\n",
        "def main():\n",
        "  print('Favourite Animal: ')\n",
        "  fav_animal = input(\"What's your favorite animal? \")\n",
        "\n",
        "  print(f\"My favourite animal is also {fav_animal}!\")\n",
        "\n",
        "if __name__ == '__main__':\n",
        "    main()"
      ],
      "metadata": {
        "colab": {
          "base_uri": "https://localhost:8080/"
        },
        "id": "EW9MemQNzgBl",
        "outputId": "d44b105a-f166-4e6d-b3e4-d764112d0cc2"
      },
      "execution_count": 11,
      "outputs": [
        {
          "output_type": "stream",
          "name": "stdout",
          "text": [
            "Favourite Animal: \n",
            "What's your favorite animal? Cow\n",
            "My favourite animal is also Cow!\n"
          ]
        }
      ]
    },
    {
      "cell_type": "code",
      "source": [
        "# 03_fahrenheit_to_celsius\n",
        "def main():\n",
        " print(\"This program converts degrees Fahrenheit to degrees Celsius.\")\n",
        " fahrenheit = float(input(\"Enter degrees Fahrenheit: \"))\n",
        "\n",
        " celsius : float = (fahrenheit - 32) * 5.0/9.0\n",
        " print(f\"Temperature: {fahrenheit}F = {celsius}C\")\n",
        "\n",
        "if __name__ == '__main__':\n",
        "    main()"
      ],
      "metadata": {
        "colab": {
          "base_uri": "https://localhost:8080/"
        },
        "id": "SUV2sKRk3Pri",
        "outputId": "05667c8b-21c7-41b1-fea7-277a08173e31"
      },
      "execution_count": 15,
      "outputs": [
        {
          "output_type": "stream",
          "name": "stdout",
          "text": [
            "This program converts degrees Fahrenheit to degrees Celsius.\n",
            "Enter degrees Fahrenheit: 76.0\n",
            "Temperature: 76.0F = 24.444444444444443C\n"
          ]
        }
      ]
    },
    {
      "cell_type": "code",
      "source": [
        "# 04_how_old_are_they\n",
        "def main():\n",
        " anton = 21\n",
        " beth = anton + 6\n",
        " chen = beth + 20\n",
        " drew = chen + anton\n",
        " ethan = chen\n",
        "\n",
        " print(f\"Anton is {anton}\")\n",
        " print(f\"Beth is {beth}\")\n",
        " print(f\"Chen is {chen}\")\n",
        " print(f\"Drew is {drew}\")\n",
        " print(f\"Ethan is {ethan}\")\n",
        "\n",
        "\n",
        "\n",
        "if __name__ == '__main__':\n",
        "    main()"
      ],
      "metadata": {
        "colab": {
          "base_uri": "https://localhost:8080/"
        },
        "id": "IbLv41XxAMay",
        "outputId": "48753d33-a864-4e94-ba0c-69afc20b3dc6"
      },
      "execution_count": 18,
      "outputs": [
        {
          "output_type": "stream",
          "name": "stdout",
          "text": [
            "Anton is 21\n",
            "Beth is 27\n",
            "Chen is 47\n",
            "Drew is 68\n",
            "Ethan is 47\n"
          ]
        }
      ]
    },
    {
      "cell_type": "code",
      "source": [
        "# 05_triangle_perimeter\n",
        "def main():\n",
        " side1 = float(input(\"What is the length of side 1? \"))\n",
        " side2 = float(input(\"What is the length of side 2? \"))\n",
        " side3 = float(input(\"What is the length of side 3? \"))\n",
        "\n",
        " perimeter = side1 + side2 + side3\n",
        "\n",
        " print(f\"The perimeter of the triangle is {perimeter}.\")\n",
        "\n",
        "if __name__ == '__main__':\n",
        "    main()"
      ],
      "metadata": {
        "colab": {
          "base_uri": "https://localhost:8080/"
        },
        "id": "DGIXXDDHCKe_",
        "outputId": "246414f1-1a25-4f2c-82f7-4365a072fd4d"
      },
      "execution_count": 19,
      "outputs": [
        {
          "output_type": "stream",
          "name": "stdout",
          "text": [
            "What is the length of side 1? 78\n",
            "What is the length of side 2? 98\n",
            "What is the length of side 3? 56\n",
            "The perimeter of the triangle is 232.0.\n"
          ]
        }
      ]
    },
    {
      "cell_type": "code",
      "source": [
        "# 06_square_number\n",
        "def main():\n",
        " num = float(input(\"Type a number to see its square: \"))\n",
        " print(f\"{num} squared is {num ** 2}\")\n",
        "\n",
        "if __name__ == '__main__':\n",
        "    main()"
      ],
      "metadata": {
        "colab": {
          "base_uri": "https://localhost:8080/"
        },
        "id": "kpjrZg0sDhsf",
        "outputId": "0b6bb824-5b59-4c3f-f8c0-b8da47f2ad09"
      },
      "execution_count": 21,
      "outputs": [
        {
          "output_type": "stream",
          "name": "stdout",
          "text": [
            "Type a number to see its square: 4.0\n",
            "4.0 squared is 16.0\n"
          ]
        }
      ]
    }
  ]
}