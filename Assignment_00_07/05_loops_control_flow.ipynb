{
  "nbformat": 4,
  "nbformat_minor": 0,
  "metadata": {
    "colab": {
      "provenance": []
    },
    "kernelspec": {
      "name": "python3",
      "display_name": "Python 3"
    },
    "language_info": {
      "name": "python"
    }
  },
  "cells": [
    {
      "cell_type": "code",
      "execution_count": 1,
      "metadata": {
        "colab": {
          "base_uri": "https://localhost:8080/"
        },
        "id": "UAVbpyG0c-vW",
        "outputId": "0dafea40-cdf1-477b-8003-13418e2660ba"
      },
      "outputs": [
        {
          "output_type": "stream",
          "name": "stdout",
          "text": [
            "I am thinking of a number between 1 and 99...\n",
            "Enter a guess: 89\n",
            "Your guess is too high\n",
            "\n",
            "Enter a new guess: 54\n",
            "Your guess is too high\n",
            "\n",
            "Enter a new guess: 23\n",
            "Your guess is too low\n",
            "\n",
            "Enter a new guess: 40\n",
            "Your guess is too low\n",
            "\n",
            "Enter a new guess: 45\n",
            "Your guess is too high\n",
            "\n",
            "Enter a new guess: 49\n",
            "Your guess is too high\n",
            "\n",
            "Enter a new guess: 50\n",
            "Your guess is too high\n",
            "\n",
            "Enter a new guess: 70\n",
            "Your guess is too high\n",
            "\n",
            "Enter a new guess: 48\n",
            "Your guess is too high\n",
            "\n",
            "Enter a new guess: 47\n",
            "Your guess is too high\n",
            "\n",
            "Enter a new guess: 46\n",
            "Your guess is too high\n",
            "\n",
            "Enter a new guess: 43\n",
            "Your guess is too high\n",
            "\n",
            "Enter a new guess: 42\n",
            "Your guess is too high\n",
            "\n",
            "Enter a new guess: 41\n",
            "Congrats! The number was:  41\n"
          ]
        }
      ],
      "source": [
        "# 00_guess_my_number\n",
        "import random\n",
        "\n",
        "def main():\n",
        "\n",
        "    secret_number = random.randint(1, 99)\n",
        "\n",
        "    print(\"I am thinking of a number between 1 and 99...\")\n",
        "\n",
        "    guess = int(input(\"Enter a guess: \"))\n",
        "    while guess != secret_number:\n",
        "        if guess < secret_number:\n",
        "            print(\"Your guess is too low\")\n",
        "        else:\n",
        "            print(\"Your guess is too high\")\n",
        "\n",
        "        print()\n",
        "        guess = int(input(\"Enter a new guess: \"))\n",
        "\n",
        "    print(f\"Congrats! The number was:  {secret_number}\")\n",
        "\n",
        "if __name__ == '__main__':\n",
        "    main()"
      ]
    },
    {
      "cell_type": "code",
      "source": [
        "# 01_fibonacci\n",
        "MAX_TERM_VALUE : int = 10000\n",
        "\n",
        "def main():\n",
        "    curr_term = 0\n",
        "    next_term = 1\n",
        "    while curr_term <= MAX_TERM_VALUE:\n",
        "        print(curr_term)\n",
        "        term_after_next = curr_term + next_term\n",
        "        curr_term = next_term\n",
        "        next_term = term_after_next\n",
        "\n",
        "if __name__ == '__main__':\n",
        "    main()"
      ],
      "metadata": {
        "colab": {
          "base_uri": "https://localhost:8080/"
        },
        "id": "fGGBKQwafisW",
        "outputId": "c2a2c945-fc50-4d39-e8d0-a15b97754969"
      },
      "execution_count": 2,
      "outputs": [
        {
          "output_type": "stream",
          "name": "stdout",
          "text": [
            "0\n",
            "1\n",
            "1\n",
            "2\n",
            "3\n",
            "5\n",
            "8\n",
            "13\n",
            "21\n",
            "34\n",
            "55\n",
            "89\n",
            "144\n",
            "233\n",
            "377\n",
            "610\n",
            "987\n",
            "1597\n",
            "2584\n",
            "4181\n",
            "6765\n"
          ]
        }
      ]
    },
    {
      "cell_type": "code",
      "source": [
        "# 02_print_events\n",
        "def main():\n",
        "    for i in range(20):\n",
        "        print(i * 2)\n",
        "\n",
        "if __name__ == \"__main__\":\n",
        "    main()"
      ],
      "metadata": {
        "colab": {
          "base_uri": "https://localhost:8080/"
        },
        "id": "5shdUwALf-d2",
        "outputId": "b2a9d3dd-06ae-4153-d9a8-7b7dc7b2ec1f"
      },
      "execution_count": 3,
      "outputs": [
        {
          "output_type": "stream",
          "name": "stdout",
          "text": [
            "0\n",
            "2\n",
            "4\n",
            "6\n",
            "8\n",
            "10\n",
            "12\n",
            "14\n",
            "16\n",
            "18\n",
            "20\n",
            "22\n",
            "24\n",
            "26\n",
            "28\n",
            "30\n",
            "32\n",
            "34\n",
            "36\n",
            "38\n"
          ]
        }
      ]
    },
    {
      "cell_type": "code",
      "source": [
        "# 03_wholesome_machine\n",
        "AFFIRMATION : str = \"I am capable of doing anything I put my mind to.\"\n",
        "\n",
        "def main():\n",
        "    print(\"Please type the following affirmation: \" + AFFIRMATION)\n",
        "\n",
        "    user_feedback = input()\n",
        "    while user_feedback != AFFIRMATION:\n",
        "\n",
        "        print(\"That was not the affirmation.\")\n",
        "\n",
        "        print(\"Please type the following affirmation: \" + AFFIRMATION)\n",
        "        user_feedback = input()\n",
        "\n",
        "    print(\"That's right! :)\")\n",
        "\n",
        "if __name__ == '__main__':\n",
        "    main()\n"
      ],
      "metadata": {
        "colab": {
          "base_uri": "https://localhost:8080/"
        },
        "id": "V9aWD5LrgYYO",
        "outputId": "16a1f64d-dd52-43e0-86fa-6b10a142fea4"
      },
      "execution_count": 10,
      "outputs": [
        {
          "output_type": "stream",
          "name": "stdout",
          "text": [
            "Please type the following affirmation: I am capable of doing anything I put my mind to.\n",
            "i'm capable of doing anything I put my mind to.\n",
            "That was not the affirmation.\n",
            "Please type the following affirmation: I am capable of doing anything I put my mind to.\n",
            " I am capable of doing anything I put my mind to.\n",
            "That was not the affirmation.\n",
            "Please type the following affirmation: I am capable of doing anything I put my mind to.\n",
            "I am capable of doing anything I put my mind to.\n",
            "That's right! :)\n"
          ]
        }
      ]
    },
    {
      "cell_type": "code",
      "source": [
        "# 04_liftoff\n",
        "def main():\n",
        "  for i in range(10,0,-1):\n",
        "\n",
        "    print(i,end=' ')\n",
        "  print(\"Liftoff!\")\n",
        "\n",
        "\n",
        "if __name__ == '__main__':\n",
        "    main()"
      ],
      "metadata": {
        "colab": {
          "base_uri": "https://localhost:8080/"
        },
        "id": "16rPjYsxhgoW",
        "outputId": "0735c282-9048-4284-dbd2-f86560c61e27"
      },
      "execution_count": 16,
      "outputs": [
        {
          "output_type": "stream",
          "name": "stdout",
          "text": [
            "10 9 8 7 6 5 4 3 2 1 Liftoff!\n"
          ]
        }
      ]
    },
    {
      "cell_type": "code",
      "source": [
        "# 05_double_it\n",
        "def main():\n",
        "\n",
        "  user_value = int(input('Enter a number: '))\n",
        "  while user_value < 100:\n",
        "    user_value = user_value * 2\n",
        "    print(user_value)\n",
        "\n",
        "if __name__ == '__main__':\n",
        "    main()"
      ],
      "metadata": {
        "colab": {
          "base_uri": "https://localhost:8080/"
        },
        "id": "w0WaQ4TcikZo",
        "outputId": "cc4d1ffd-aa85-4cbc-9e96-4c3c6d47c4cb"
      },
      "execution_count": 20,
      "outputs": [
        {
          "output_type": "stream",
          "name": "stdout",
          "text": [
            "Enter a number: 2\n",
            "4\n",
            "8\n",
            "16\n",
            "32\n",
            "64\n",
            "128\n"
          ]
        }
      ]
    }
  ]
}