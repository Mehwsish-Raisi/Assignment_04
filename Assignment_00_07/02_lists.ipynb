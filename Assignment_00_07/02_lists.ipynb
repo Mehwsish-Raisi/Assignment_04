{
  "nbformat": 4,
  "nbformat_minor": 0,
  "metadata": {
    "colab": {
      "provenance": []
    },
    "kernelspec": {
      "name": "python3",
      "display_name": "Python 3"
    },
    "language_info": {
      "name": "python"
    }
  },
  "cells": [
    {
      "cell_type": "code",
      "execution_count": null,
      "metadata": {
        "colab": {
          "base_uri": "https://localhost:8080/"
        },
        "id": "YhS4GjhtES8P",
        "outputId": "6d7a1d0e-8450-4cd7-cd33-491a6e9897f3"
      },
      "outputs": [
        {
          "output_type": "stream",
          "name": "stdout",
          "text": [
            "15\n"
          ]
        }
      ],
      "source": [
        "# 01_add_many_number\n",
        "def add_many_numbers(numbers)-> int:\n",
        "\n",
        "    total_so_far: int = 0\n",
        "    for number in numbers:\n",
        "        total_so_far += number\n",
        "\n",
        "    return total_so_far\n",
        "\n",
        "def main():\n",
        "    numbers: list[int] = [1, 2, 3, 4, 5]\n",
        "    sum_of_numbers: int = add_many_numbers(numbers)\n",
        "    print(sum_of_numbers)\n",
        "\n",
        "\n",
        "if __name__ == '__main__':\n",
        "    main()"
      ]
    },
    {
      "cell_type": "code",
      "source": [
        "# 02_double_list\n",
        "def main():\n",
        "    numbers: list[int] = [1, 2, 3, 4]\n",
        "\n",
        "    for i in range(len(numbers)):\n",
        "        elem_at_index = numbers[i]\n",
        "        numbers[i] = elem_at_index * 2\n",
        "\n",
        "    print(numbers)\n",
        "\n",
        "\n",
        "if __name__ == '__main__':\n",
        "    main()"
      ],
      "metadata": {
        "colab": {
          "base_uri": "https://localhost:8080/"
        },
        "id": "QrrmWJ5KGJJw",
        "outputId": "3c7471d1-2c2d-47c5-8652-33f8ce09109f"
      },
      "execution_count": null,
      "outputs": [
        {
          "output_type": "stream",
          "name": "stdout",
          "text": [
            "[2, 4, 6, 8]\n"
          ]
        }
      ]
    },
    {
      "cell_type": "code",
      "source": [
        "# 04_flowing_with_data_structures\n",
        "def add_three_copies(my_list, data):\n",
        "    for i in range(3):\n",
        "        my_list.append(data)\n",
        "\n",
        "\n",
        "\n",
        "def main():\n",
        "    message = input(\"Enter a message to copy: \")\n",
        "    my_list = []\n",
        "    print(\"List before:\", my_list)\n",
        "    add_three_copies(my_list, message)\n",
        "    print(\"List after:\", my_list)\n",
        "\n",
        "if __name__ == \"__main__\":\n",
        "    main()"
      ],
      "metadata": {
        "id": "sQtXpnxHZsMJ",
        "colab": {
          "base_uri": "https://localhost:8080/"
        },
        "outputId": "89cd4668-8b83-4fd0-a370-1828538efd2f"
      },
      "execution_count": null,
      "outputs": [
        {
          "output_type": "stream",
          "name": "stdout",
          "text": [
            "Enter a message to copy: Hello world!\n",
            "List before: []\n",
            "List after: ['Hello world!', 'Hello world!', 'Hello world!']\n"
          ]
        }
      ]
    },
    {
      "cell_type": "code",
      "source": [
        "# 05_get_first_element\n",
        "def get_first_element(lst):\n",
        "\n",
        "   print(lst[0])\n",
        "\n",
        "def get_lst():\n",
        "\n",
        "    lst = []\n",
        "    elem: str = input(\"Please enter an element of the list or press enter to stop. \")\n",
        "    while elem != \"\":\n",
        "        lst.append(elem)\n",
        "        elem = input(\"Please enter an element of the list or press enter to stop. \")\n",
        "    return lst\n",
        "\n",
        "def main():\n",
        "    lst = get_lst()\n",
        "    get_first_element(lst)\n",
        "\n",
        "\n",
        "if __name__ == '__main__':\n",
        "    main()\n",
        "\n"
      ],
      "metadata": {
        "colab": {
          "base_uri": "https://localhost:8080/"
        },
        "id": "yed0U2AYriG7",
        "outputId": "33da4fb7-b532-4cfb-8540-fc40a3650e0c"
      },
      "execution_count": 1,
      "outputs": [
        {
          "output_type": "stream",
          "name": "stdout",
          "text": [
            "Please enter an element of the list or press enter to stop. python\n",
            "Please enter an element of the list or press enter to stop. typescript\n",
            "Please enter an element of the list or press enter to stop. javascript\n",
            "Please enter an element of the list or press enter to stop. next.js\n",
            "Please enter an element of the list or press enter to stop. \n",
            "python\n"
          ]
        }
      ]
    },
    {
      "cell_type": "code",
      "source": [
        "# 06_get_last_element\n",
        "\n",
        "def get_last_element(lst):\n",
        "\n",
        "    print(lst[-1])\n",
        "\n",
        "def get_lst():\n",
        "\n",
        "    lst = []\n",
        "    elem: str = input(\"Please enter an element of the list or press enter to stop. \")\n",
        "    while elem != \"\":\n",
        "        lst.append(elem)\n",
        "        elem = input(\"Please enter an element of the list or press enter to stop. \")\n",
        "    return lst\n",
        "\n",
        "def main():\n",
        "    lst = get_lst()\n",
        "    get_last_element(lst)\n",
        "\n",
        "\n",
        "if __name__ == '__main__':\n",
        "    main()\n"
      ],
      "metadata": {
        "colab": {
          "base_uri": "https://localhost:8080/"
        },
        "id": "v7dt46InTR_E",
        "outputId": "cbd8068f-ff6e-4b8c-e00c-673dfa9c102f"
      },
      "execution_count": 2,
      "outputs": [
        {
          "output_type": "stream",
          "name": "stdout",
          "text": [
            "Please enter an element of the list or press enter to stop. python\n",
            "Please enter an element of the list or press enter to stop. typescript\n",
            "Please enter an element of the list or press enter to stop. javascript\n",
            "Please enter an element of the list or press enter to stop. next.js\n",
            "Please enter an element of the list or press enter to stop. \n",
            "next.js\n"
          ]
        }
      ]
    },
    {
      "cell_type": "code",
      "source": [
        "# 07_get_list\n",
        "def main():\n",
        "  lst = []\n",
        "  val = input('Enter a value: ')\n",
        "  while val:\n",
        "    lst.append(val)\n",
        "    val = input('Enter a value: ')\n",
        "  print(f\"Here's the list: {lst}\" )\n",
        "\n",
        "if __name__ == '__main__':\n",
        "  main()"
      ],
      "metadata": {
        "colab": {
          "base_uri": "https://localhost:8080/"
        },
        "id": "M_NlIhqnUmfv",
        "outputId": "e843fa10-1f6a-4290-8d78-0348e74dcb25"
      },
      "execution_count": 3,
      "outputs": [
        {
          "output_type": "stream",
          "name": "stdout",
          "text": [
            "Enter a value: 1\n",
            "Enter a value: 2\n",
            "Enter a value: 3\n",
            "Enter a value: \n",
            "Here's the list: ['1', '2', '3']\n"
          ]
        }
      ]
    },
    {
      "cell_type": "code",
      "source": [
        "MAX_LENGTH : int = 3\n",
        "\n",
        "def shorten(lst):\n",
        "    while len(lst) > MAX_LENGTH:\n",
        "        last_elem = lst.pop()\n",
        "        print(last_elem)\n",
        "\n",
        "# There is no need to edit code beyond this point\n",
        "\n",
        "def get_lst():\n",
        "    \"\"\"\n",
        "    Prompts the user to enter one element of the list at a time and returns the resulting list.\n",
        "    \"\"\"\n",
        "    lst = []\n",
        "    elem = input(\"Please enter an element of the list or press enter to stop. \")\n",
        "    while elem != \"\":\n",
        "        lst.append(elem)\n",
        "        elem = input(\"Please enter an element of the list or press enter to stop. \")\n",
        "    return lst\n",
        "\n",
        "def main():\n",
        "    lst = get_lst()\n",
        "    shorten(lst)\n",
        "\n",
        "\n",
        "if __name__ == '__main__':\n",
        "    main()"
      ],
      "metadata": {
        "colab": {
          "base_uri": "https://localhost:8080/"
        },
        "id": "GWJdpPHDYe7Q",
        "outputId": "c6f789eb-6b75-4e5b-af15-bc0b21b12b3e"
      },
      "execution_count": 9,
      "outputs": [
        {
          "output_type": "stream",
          "name": "stdout",
          "text": [
            "Please enter an element of the list or press enter to stop. 1\n",
            "Please enter an element of the list or press enter to stop. 2\n",
            "Please enter an element of the list or press enter to stop. 3\n",
            "Please enter an element of the list or press enter to stop. 4\n",
            "Please enter an element of the list or press enter to stop. 5\n",
            "Please enter an element of the list or press enter to stop. 6\n",
            "Please enter an element of the list or press enter to stop. 7\n",
            "Please enter an element of the list or press enter to stop. \n",
            "7\n",
            "6\n",
            "5\n",
            "4\n"
          ]
        }
      ]
    }
  ]
}